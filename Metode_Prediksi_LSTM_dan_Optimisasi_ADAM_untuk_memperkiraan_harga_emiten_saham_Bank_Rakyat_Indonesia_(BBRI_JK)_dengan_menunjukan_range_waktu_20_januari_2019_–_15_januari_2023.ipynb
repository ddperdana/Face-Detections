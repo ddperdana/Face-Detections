{
  "nbformat": 4,
  "nbformat_minor": 0,
  "metadata": {
    "colab": {
      "provenance": [],
      "authorship_tag": "ABX9TyNDPMTefFm+4LxycDlD3+lU",
      "include_colab_link": true
    },
    "kernelspec": {
      "name": "python3",
      "display_name": "Python 3"
    },
    "language_info": {
      "name": "python"
    }
  },
  "cells": [
    {
      "cell_type": "markdown",
      "metadata": {
        "id": "view-in-github",
        "colab_type": "text"
      },
      "source": [
        "<a href=\"https://colab.research.google.com/github/ddperdana/Face-Detections/blob/main/Metode_Prediksi_LSTM_dan_Optimisasi_ADAM_untuk_memperkiraan_harga_emiten_saham_Bank_Rakyat_Indonesia_(BBRI_JK)_dengan_menunjukan_range_waktu_20_januari_2019_%E2%80%93_15_januari_2023.ipynb\" target=\"_parent\"><img src=\"https://colab.research.google.com/assets/colab-badge.svg\" alt=\"Open In Colab\"/></a>"
      ]
    },
    {
      "cell_type": "code",
      "execution_count": 1,
      "metadata": {
        "id": "nxFXXjpBqOXw"
      },
      "outputs": [],
      "source": [
        "# Import library yang dibutuhkan\n",
        "import pandas as pd\n",
        "import numpy as np\n",
        "from sklearn.preprocessing import MinMaxScaler\n",
        "from keras.models import Sequential\n",
        "from keras.layers import LSTM, Dense\n",
        "import matplotlib.pyplot as plt"
      ]
    },
    {
      "cell_type": "code",
      "source": [
        "# Load data harga saham BBRI.JK\n",
        "data = pd.read_csv('/content/BBRI.JK.csv')"
      ],
      "metadata": {
        "id": "XCsIMhu-rofI"
      },
      "execution_count": 3,
      "outputs": []
    },
    {
      "cell_type": "code",
      "source": [
        "# Hapus kolom yang tidak digunakan\n",
        "data.drop(['Date'], axis=1, inplace=True)"
      ],
      "metadata": {
        "id": "SZrK2zfcrzda"
      },
      "execution_count": 4,
      "outputs": []
    },
    {
      "cell_type": "code",
      "source": [
        "# Konversi data ke bentuk numpy array\n",
        "dataset = data.values\n",
        "dataset = dataset.astype('float32')"
      ],
      "metadata": {
        "id": "f7cVlkeLr4JX"
      },
      "execution_count": 5,
      "outputs": []
    },
    {
      "cell_type": "code",
      "source": [
        "# Scaling data menjadi rentang antara 0 dan 1\n",
        "scaler = MinMaxScaler(feature_range=(0, 1))\n",
        "dataset = scaler.fit_transform(dataset)"
      ],
      "metadata": {
        "id": "GrLyB1SFr8L4"
      },
      "execution_count": 6,
      "outputs": []
    },
    {
      "cell_type": "code",
      "source": [
        "# Membagi data menjadi training dan testing\n",
        "train_size = int(len(dataset) * 0.7)\n",
        "test_size = len(dataset) - train_size\n",
        "train, test = dataset[0:train_size,:], dataset[train_size:len(dataset),:]"
      ],
      "metadata": {
        "id": "TKUTrIhosAsl"
      },
      "execution_count": 7,
      "outputs": []
    },
    {
      "cell_type": "code",
      "source": [
        "# Membuat function untuk membuat data dalam bentuk array 2D (sample, timestep)\n",
        "def create_dataset(dataset, look_back=1):\n",
        "    dataX, dataY = [], []\n",
        "    for i in range(len(dataset) - look_back - 1):\n",
        "        a = dataset[i:(i + look_back), 0]\n",
        "        dataX.append(a)\n",
        "        dataY.append(dataset[i + look_back, 0])\n",
        "    return np.array(dataX), np.array(dataY)"
      ],
      "metadata": {
        "id": "8hwrEiNCsGCM"
      },
      "execution_count": 8,
      "outputs": []
    },
    {
      "cell_type": "code",
      "source": [
        "# Menentukan jumlah timestep (look_back)\n",
        "look_back = 1\n",
        "trainX, trainY = create_dataset(train, look_back)\n",
        "testX, testY = create_dataset(test, look_back)"
      ],
      "metadata": {
        "id": "b1P-jltusNrS"
      },
      "execution_count": 9,
      "outputs": []
    },
    {
      "cell_type": "code",
      "source": [
        "# Membuat model LSTM\n",
        "model = Sequential()\n",
        "model.add(LSTM(100, input_shape=(look_back, 1)))\n",
        "model.add(Dense(1))"
      ],
      "metadata": {
        "id": "HBsE6fgTsTSL"
      },
      "execution_count": 10,
      "outputs": []
    },
    {
      "cell_type": "code",
      "source": [
        "# Compile model menggunakan optimisasi ADAM dan fungsi kerugian Mean Squared Error\n",
        "model.compile(loss='mean_squared_error', optimizer='adam')"
      ],
      "metadata": {
        "id": "n80RDYJisWlj"
      },
      "execution_count": 11,
      "outputs": []
    },
    {
      "cell_type": "code",
      "source": [
        "# Reshape data menjadi bentuk 3D (sample, timestep, feature)\n",
        "trainX = np.reshape(trainX, (trainX.shape[0], look_back, 1))\n",
        "testX = np.reshape(testX, (testX.shape[0], look_back, 1))"
      ],
      "metadata": {
        "id": "kR6I2H8Bscw2"
      },
      "execution_count": 12,
      "outputs": []
    },
    {
      "cell_type": "code",
      "source": [
        "# Fitting model ke data training\n",
        "model.fit(trainX, trainY, epochs=100, batch_size=1, verbose=2)"
      ],
      "metadata": {
        "colab": {
          "base_uri": "https://localhost:8080/"
        },
        "id": "0TgvfVTzsjan",
        "outputId": "0d62a46c-f5c4-46ff-9237-50b0d95d73ad"
      },
      "execution_count": 13,
      "outputs": [
        {
          "output_type": "stream",
          "name": "stdout",
          "text": [
            "Epoch 1/100\n",
            "690/690 - 4s - loss: nan - 4s/epoch - 6ms/step\n",
            "Epoch 2/100\n",
            "690/690 - 2s - loss: nan - 2s/epoch - 3ms/step\n",
            "Epoch 3/100\n",
            "690/690 - 1s - loss: nan - 1s/epoch - 2ms/step\n",
            "Epoch 4/100\n",
            "690/690 - 1s - loss: nan - 1s/epoch - 2ms/step\n",
            "Epoch 5/100\n",
            "690/690 - 1s - loss: nan - 1s/epoch - 2ms/step\n",
            "Epoch 6/100\n",
            "690/690 - 2s - loss: nan - 2s/epoch - 3ms/step\n",
            "Epoch 7/100\n",
            "690/690 - 2s - loss: nan - 2s/epoch - 2ms/step\n",
            "Epoch 8/100\n",
            "690/690 - 1s - loss: nan - 1s/epoch - 2ms/step\n",
            "Epoch 9/100\n",
            "690/690 - 1s - loss: nan - 1s/epoch - 2ms/step\n",
            "Epoch 10/100\n",
            "690/690 - 1s - loss: nan - 1s/epoch - 2ms/step\n",
            "Epoch 11/100\n",
            "690/690 - 1s - loss: nan - 1s/epoch - 2ms/step\n",
            "Epoch 12/100\n",
            "690/690 - 1s - loss: nan - 1s/epoch - 2ms/step\n",
            "Epoch 13/100\n",
            "690/690 - 1s - loss: nan - 1s/epoch - 2ms/step\n",
            "Epoch 14/100\n",
            "690/690 - 2s - loss: nan - 2s/epoch - 2ms/step\n",
            "Epoch 15/100\n",
            "690/690 - 2s - loss: nan - 2s/epoch - 3ms/step\n",
            "Epoch 16/100\n",
            "690/690 - 1s - loss: nan - 1s/epoch - 2ms/step\n",
            "Epoch 17/100\n",
            "690/690 - 1s - loss: nan - 1s/epoch - 2ms/step\n",
            "Epoch 18/100\n",
            "690/690 - 1s - loss: nan - 1s/epoch - 2ms/step\n",
            "Epoch 19/100\n",
            "690/690 - 1s - loss: nan - 1s/epoch - 2ms/step\n",
            "Epoch 20/100\n",
            "690/690 - 1s - loss: nan - 1s/epoch - 2ms/step\n",
            "Epoch 21/100\n",
            "690/690 - 1s - loss: nan - 1s/epoch - 2ms/step\n",
            "Epoch 22/100\n",
            "690/690 - 1s - loss: nan - 1s/epoch - 2ms/step\n",
            "Epoch 23/100\n",
            "690/690 - 2s - loss: nan - 2s/epoch - 3ms/step\n",
            "Epoch 24/100\n",
            "690/690 - 2s - loss: nan - 2s/epoch - 2ms/step\n",
            "Epoch 25/100\n",
            "690/690 - 2s - loss: nan - 2s/epoch - 3ms/step\n",
            "Epoch 26/100\n",
            "690/690 - 2s - loss: nan - 2s/epoch - 2ms/step\n",
            "Epoch 27/100\n",
            "690/690 - 1s - loss: nan - 1s/epoch - 2ms/step\n",
            "Epoch 28/100\n",
            "690/690 - 1s - loss: nan - 1s/epoch - 2ms/step\n",
            "Epoch 29/100\n",
            "690/690 - 1s - loss: nan - 1s/epoch - 2ms/step\n",
            "Epoch 30/100\n",
            "690/690 - 1s - loss: nan - 1s/epoch - 2ms/step\n",
            "Epoch 31/100\n",
            "690/690 - 2s - loss: nan - 2s/epoch - 3ms/step\n",
            "Epoch 32/100\n",
            "690/690 - 2s - loss: nan - 2s/epoch - 2ms/step\n",
            "Epoch 33/100\n",
            "690/690 - 1s - loss: nan - 1s/epoch - 2ms/step\n",
            "Epoch 34/100\n",
            "690/690 - 1s - loss: nan - 1s/epoch - 2ms/step\n",
            "Epoch 35/100\n",
            "690/690 - 1s - loss: nan - 1s/epoch - 2ms/step\n",
            "Epoch 36/100\n",
            "690/690 - 1s - loss: nan - 1s/epoch - 2ms/step\n",
            "Epoch 37/100\n",
            "690/690 - 1s - loss: nan - 1s/epoch - 2ms/step\n",
            "Epoch 38/100\n",
            "690/690 - 1s - loss: nan - 1s/epoch - 2ms/step\n",
            "Epoch 39/100\n",
            "690/690 - 2s - loss: nan - 2s/epoch - 3ms/step\n",
            "Epoch 40/100\n",
            "690/690 - 2s - loss: nan - 2s/epoch - 3ms/step\n",
            "Epoch 41/100\n",
            "690/690 - 1s - loss: nan - 1s/epoch - 2ms/step\n",
            "Epoch 42/100\n",
            "690/690 - 1s - loss: nan - 1s/epoch - 2ms/step\n",
            "Epoch 43/100\n",
            "690/690 - 1s - loss: nan - 1s/epoch - 2ms/step\n",
            "Epoch 44/100\n",
            "690/690 - 1s - loss: nan - 1s/epoch - 2ms/step\n",
            "Epoch 45/100\n",
            "690/690 - 1s - loss: nan - 1s/epoch - 2ms/step\n",
            "Epoch 46/100\n",
            "690/690 - 1s - loss: nan - 1s/epoch - 2ms/step\n",
            "Epoch 47/100\n",
            "690/690 - 2s - loss: nan - 2s/epoch - 2ms/step\n",
            "Epoch 48/100\n",
            "690/690 - 2s - loss: nan - 2s/epoch - 3ms/step\n",
            "Epoch 49/100\n",
            "690/690 - 1s - loss: nan - 1s/epoch - 2ms/step\n",
            "Epoch 50/100\n",
            "690/690 - 1s - loss: nan - 1s/epoch - 2ms/step\n",
            "Epoch 51/100\n",
            "690/690 - 1s - loss: nan - 1s/epoch - 2ms/step\n",
            "Epoch 52/100\n",
            "690/690 - 1s - loss: nan - 1s/epoch - 2ms/step\n",
            "Epoch 53/100\n",
            "690/690 - 1s - loss: nan - 1s/epoch - 2ms/step\n",
            "Epoch 54/100\n",
            "690/690 - 1s - loss: nan - 1s/epoch - 2ms/step\n",
            "Epoch 55/100\n",
            "690/690 - 1s - loss: nan - 1s/epoch - 2ms/step\n",
            "Epoch 56/100\n",
            "690/690 - 2s - loss: nan - 2s/epoch - 3ms/step\n",
            "Epoch 57/100\n",
            "690/690 - 2s - loss: nan - 2s/epoch - 2ms/step\n",
            "Epoch 58/100\n",
            "690/690 - 1s - loss: nan - 1s/epoch - 2ms/step\n",
            "Epoch 59/100\n",
            "690/690 - 1s - loss: nan - 1s/epoch - 2ms/step\n",
            "Epoch 60/100\n",
            "690/690 - 1s - loss: nan - 1s/epoch - 2ms/step\n",
            "Epoch 61/100\n",
            "690/690 - 1s - loss: nan - 1s/epoch - 2ms/step\n",
            "Epoch 62/100\n",
            "690/690 - 1s - loss: nan - 1s/epoch - 2ms/step\n",
            "Epoch 63/100\n",
            "690/690 - 1s - loss: nan - 1s/epoch - 2ms/step\n",
            "Epoch 64/100\n",
            "690/690 - 2s - loss: nan - 2s/epoch - 3ms/step\n",
            "Epoch 65/100\n",
            "690/690 - 2s - loss: nan - 2s/epoch - 3ms/step\n",
            "Epoch 66/100\n",
            "690/690 - 1s - loss: nan - 1s/epoch - 2ms/step\n",
            "Epoch 67/100\n",
            "690/690 - 1s - loss: nan - 1s/epoch - 2ms/step\n",
            "Epoch 68/100\n",
            "690/690 - 1s - loss: nan - 1s/epoch - 2ms/step\n",
            "Epoch 69/100\n",
            "690/690 - 1s - loss: nan - 1s/epoch - 2ms/step\n",
            "Epoch 70/100\n",
            "690/690 - 1s - loss: nan - 1s/epoch - 2ms/step\n",
            "Epoch 71/100\n",
            "690/690 - 1s - loss: nan - 1s/epoch - 2ms/step\n",
            "Epoch 72/100\n",
            "690/690 - 2s - loss: nan - 2s/epoch - 2ms/step\n",
            "Epoch 73/100\n",
            "690/690 - 2s - loss: nan - 2s/epoch - 3ms/step\n",
            "Epoch 74/100\n",
            "690/690 - 1s - loss: nan - 1s/epoch - 2ms/step\n",
            "Epoch 75/100\n",
            "690/690 - 1s - loss: nan - 1s/epoch - 2ms/step\n",
            "Epoch 76/100\n",
            "690/690 - 1s - loss: nan - 1s/epoch - 2ms/step\n",
            "Epoch 77/100\n",
            "690/690 - 1s - loss: nan - 1s/epoch - 2ms/step\n",
            "Epoch 78/100\n",
            "690/690 - 1s - loss: nan - 1s/epoch - 2ms/step\n",
            "Epoch 79/100\n",
            "690/690 - 1s - loss: nan - 1s/epoch - 2ms/step\n",
            "Epoch 80/100\n",
            "690/690 - 1s - loss: nan - 1s/epoch - 2ms/step\n",
            "Epoch 81/100\n",
            "690/690 - 2s - loss: nan - 2s/epoch - 3ms/step\n",
            "Epoch 82/100\n",
            "690/690 - 2s - loss: nan - 2s/epoch - 2ms/step\n",
            "Epoch 83/100\n",
            "690/690 - 1s - loss: nan - 1s/epoch - 2ms/step\n",
            "Epoch 84/100\n",
            "690/690 - 1s - loss: nan - 1s/epoch - 2ms/step\n",
            "Epoch 85/100\n",
            "690/690 - 1s - loss: nan - 1s/epoch - 2ms/step\n",
            "Epoch 86/100\n",
            "690/690 - 1s - loss: nan - 1s/epoch - 2ms/step\n",
            "Epoch 87/100\n",
            "690/690 - 1s - loss: nan - 1s/epoch - 2ms/step\n",
            "Epoch 88/100\n",
            "690/690 - 1s - loss: nan - 1s/epoch - 2ms/step\n",
            "Epoch 89/100\n",
            "690/690 - 2s - loss: nan - 2s/epoch - 3ms/step\n",
            "Epoch 90/100\n",
            "690/690 - 2s - loss: nan - 2s/epoch - 3ms/step\n",
            "Epoch 91/100\n",
            "690/690 - 1s - loss: nan - 1s/epoch - 2ms/step\n",
            "Epoch 92/100\n",
            "690/690 - 1s - loss: nan - 1s/epoch - 2ms/step\n",
            "Epoch 93/100\n",
            "690/690 - 1s - loss: nan - 1s/epoch - 2ms/step\n",
            "Epoch 94/100\n",
            "690/690 - 1s - loss: nan - 1s/epoch - 2ms/step\n",
            "Epoch 95/100\n",
            "690/690 - 1s - loss: nan - 1s/epoch - 2ms/step\n",
            "Epoch 96/100\n",
            "690/690 - 1s - loss: nan - 1s/epoch - 2ms/step\n",
            "Epoch 97/100\n",
            "690/690 - 2s - loss: nan - 2s/epoch - 2ms/step\n",
            "Epoch 98/100\n",
            "690/690 - 2s - loss: nan - 2s/epoch - 3ms/step\n",
            "Epoch 99/100\n",
            "690/690 - 1s - loss: nan - 1s/epoch - 2ms/step\n",
            "Epoch 100/100\n",
            "690/690 - 1s - loss: nan - 1s/epoch - 2ms/step\n"
          ]
        },
        {
          "output_type": "execute_result",
          "data": {
            "text/plain": [
              "<keras.callbacks.History at 0x7fe864348790>"
            ]
          },
          "metadata": {},
          "execution_count": 13
        }
      ]
    },
    {
      "cell_type": "code",
      "source": [
        "# Melakukan prediksi pada data testing\n",
        "trainPredict = model.predict(trainX)\n",
        "testPredict = model.predict(testX)"
      ],
      "metadata": {
        "colab": {
          "base_uri": "https://localhost:8080/"
        },
        "id": "gr5hkNy0t6cR",
        "outputId": "008b21d9-62d0-460e-cb97-96bca9590b34"
      },
      "execution_count": 14,
      "outputs": [
        {
          "output_type": "stream",
          "name": "stdout",
          "text": [
            "22/22 [==============================] - 1s 2ms/step\n",
            "10/10 [==============================] - 0s 2ms/step\n"
          ]
        }
      ]
    },
    {
      "cell_type": "code",
      "source": [
        "# Plot hasil prediksi pada data trainingnya\n",
        "plt.plot(trainPredict)\n",
        "plt.plot(trainY)\n",
        "plt.show()"
      ],
      "metadata": {
        "colab": {
          "base_uri": "https://localhost:8080/",
          "height": 265
        },
        "id": "g---mamCuFHp",
        "outputId": "d49824fa-8bb8-433d-c4cf-2044317e2db1"
      },
      "execution_count": 15,
      "outputs": [
        {
          "output_type": "display_data",
          "data": {
            "text/plain": [
              "<Figure size 432x288 with 1 Axes>"
            ],
            "image/png": "[encoded data removed]"
          },
          "metadata": {
            "needs_background": "light"
          }
        }
      ]
    },
    {
      "cell_type": "code",
      "source": [
        "# Plot hasil prediksi pada data testing  by Ajang Rahmat\n",
        "plt.plot(testPredict)\n",
        "plt.plot(testY)\n",
        "plt.show()"
      ],
      "metadata": {
        "colab": {
          "base_uri": "https://localhost:8080/",
          "height": 265
        },
        "id": "O2lRONm9uQ0Y",
        "outputId": "630a526c-0fea-4fd3-c0cc-f28758c39db9"
      },
      "execution_count": 16,
      "outputs": [
        {
          "output_type": "display_data",
          "data": {
            "text/plain": [
              "<Figure size 432x288 with 1 Axes>"
            ],
            "image/png": "[encoded data removed]"
          },
          "metadata": {
            "needs_background": "light"
          }
        }
      ]
    }
  ]
}