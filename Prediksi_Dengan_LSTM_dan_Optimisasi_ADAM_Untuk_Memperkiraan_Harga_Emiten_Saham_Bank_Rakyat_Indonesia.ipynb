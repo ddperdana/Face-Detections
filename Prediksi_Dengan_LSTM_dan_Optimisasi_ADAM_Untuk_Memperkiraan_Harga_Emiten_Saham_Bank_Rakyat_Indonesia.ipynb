{
  "nbformat": 4,
  "nbformat_minor": 0,
  "metadata": {
    "colab": {
      "provenance": [],
      "include_colab_link": true
    },
    "kernelspec": {
      "name": "python3",
      "display_name": "Python 3"
    },
    "language_info": {
      "name": "python"
    }
  },
  "cells": [
    {
      "cell_type": "markdown",
      "metadata": {
        "id": "view-in-github",
        "colab_type": "text"
      },
      "source": [
        "<a href=\"https://colab.research.google.com/github/ddperdana/Face-Detections/blob/main/Prediksi_Dengan_LSTM_dan_Optimisasi_ADAM_Untuk_Memperkiraan_Harga_Emiten_Saham_Bank_Rakyat_Indonesia.ipynb\" target=\"_parent\"><img src=\"https://colab.research.google.com/assets/colab-badge.svg\" alt=\"Open In Colab\"/></a>"
      ]
    },
    {
      "cell_type": "code",
      "execution_count": null,
      "metadata": {
        "id": "apjBbsTEOITw"
      },
      "outputs": [],
      "source": [
        "# Import library yang dibutuhkan\n",
        "import pandas as pd\n",
        "import numpy as np\n",
        "from sklearn.preprocessing import MinMaxScaler\n",
        "from keras.models import Sequential\n",
        "from keras.layers import LSTM, Dense\n",
        "import matplotlib.pyplot as plt"
      ]
    },
    {
      "cell_type": "code",
      "source": [
        "# Load data harga saham BBRI.JK\n",
        "data = pd.read_csv('/content/BBRI.JK.csv')"
      ],
      "metadata": {
        "id": "L8z2HtliUder"
      },
      "execution_count": null,
      "outputs": []
    },
    {
      "cell_type": "code",
      "source": [
        "# Hapus kolom yang tidak digunakan\n",
        "data.drop(['Date'], axis=1, inplace=True)"
      ],
      "metadata": {
        "id": "_oFzgzjSUxpU"
      },
      "execution_count": null,
      "outputs": []
    },
    {
      "cell_type": "code",
      "source": [
        "# Konversi data ke bentuk numpy array\n",
        "dataset = data.values\n",
        "dataset = dataset.astype('float32')"
      ],
      "metadata": {
        "id": "eIL0x-4MVHzA"
      },
      "execution_count": null,
      "outputs": []
    },
    {
      "cell_type": "code",
      "source": [
        "# Scaling data menjadi rentang antara 0 dan 1\n",
        "scaler = MinMaxScaler(feature_range=(0, 1))\n",
        "dataset = scaler.fit_transform(dataset)"
      ],
      "metadata": {
        "id": "rYVNfLClVOQB"
      },
      "execution_count": null,
      "outputs": []
    },
    {
      "cell_type": "code",
      "source": [
        "# Membagi data menjadi training dan testing\n",
        "train_size = int(len(dataset) * 0.7)\n",
        "test_size = len(dataset) - train_size\n",
        "train, test = dataset[0:train_size,:], dataset[train_size:len(dataset),:]"
      ],
      "metadata": {
        "id": "WLahv6sOVRA4"
      },
      "execution_count": null,
      "outputs": []
    },
    {
      "cell_type": "code",
      "source": [
        "# Membuat fungsinya untuk membuat data dalam bentuk array 2D (sample, timestep)\n",
        "def create_dataset(dataset, look_back=1):\n",
        "    dataX, dataY = [], []\n",
        "    for i in range(len(dataset) - look_back - 1):\n",
        "        a = dataset[i:(i + look_back), 0]\n",
        "        dataX.append(a)\n",
        "        dataY.append(dataset[i + look_back, 0])\n",
        "    return np.array(dataX), np.array(dataY)"
      ],
      "metadata": {
        "id": "25fTFjXvVWhg"
      },
      "execution_count": null,
      "outputs": []
    },
    {
      "cell_type": "code",
      "source": [
        "# Menentukan jumlah timestep (look_back)\n",
        "look_back = 1\n",
        "trainX, trainY = create_dataset(train, look_back)\n",
        "testX, testY = create_dataset(test, look_back)"
      ],
      "metadata": {
        "id": "g3DijaLvVcNW"
      },
      "execution_count": null,
      "outputs": []
    },
    {
      "cell_type": "code",
      "source": [
        "# Membuat model LSTM\n",
        "model = Sequential()\n",
        "model.add(LSTM(100, input_shape=(look_back, 1)))\n",
        "model.add(Dense(1))"
      ],
      "metadata": {
        "id": "03RMsNGkVfap"
      },
      "execution_count": null,
      "outputs": []
    },
    {
      "cell_type": "code",
      "source": [
        "# Compile model menggunakan optimisasi ADAM dan fungsi kerugian Mean Squared Error\n",
        "model.compile(loss='mean_squared_error', optimizer='adam')"
      ],
      "metadata": {
        "id": "wevV1EKWVk3I"
      },
      "execution_count": null,
      "outputs": []
    },
    {
      "cell_type": "code",
      "source": [
        "# Reshape data menjadi bentuk 3D (sample, timestep, feature)\n",
        "trainX = np.reshape(trainX, (trainX.shape[0], look_back, 1))\n",
        "testX = np.reshape(testX, (testX.shape[0], look_back, 1))"
      ],
      "metadata": {
        "id": "nby2mvFaVt1G"
      },
      "execution_count": null,
      "outputs": []
    },
    {
      "cell_type": "code",
      "source": [
        "# Fitting model ke data training\n",
        "model.fit(trainX, trainY, epochs=100, batch_size=1, verbose=2)"
      ],
      "metadata": {
        "colab": {
          "base_uri": "https://localhost:8080/"
        },
        "id": "ZVPqYY1QVwWX",
        "outputId": "1afed8d2-b232-4520-c150-19f22aee4ede"
      },
      "execution_count": null,
      "outputs": [
        {
          "output_type": "stream",
          "name": "stdout",
          "text": [
            "Epoch 1/100\n",
            "170/170 - 2s - loss: 0.0517 - 2s/epoch - 12ms/step\n",
            "Epoch 2/100\n",
            "170/170 - 0s - loss: 0.0148 - 309ms/epoch - 2ms/step\n",
            "Epoch 3/100\n",
            "170/170 - 0s - loss: 0.0117 - 332ms/epoch - 2ms/step\n",
            "Epoch 4/100\n",
            "170/170 - 0s - loss: 0.0103 - 292ms/epoch - 2ms/step\n",
            "Epoch 5/100\n",
            "170/170 - 0s - loss: 0.0095 - 310ms/epoch - 2ms/step\n",
            "Epoch 6/100\n",
            "170/170 - 0s - loss: 0.0090 - 332ms/epoch - 2ms/step\n",
            "Epoch 7/100\n",
            "170/170 - 0s - loss: 0.0091 - 306ms/epoch - 2ms/step\n",
            "Epoch 8/100\n",
            "170/170 - 0s - loss: 0.0093 - 303ms/epoch - 2ms/step\n",
            "Epoch 9/100\n",
            "170/170 - 1s - loss: 0.0091 - 645ms/epoch - 4ms/step\n",
            "Epoch 10/100\n",
            "170/170 - 1s - loss: 0.0091 - 581ms/epoch - 3ms/step\n",
            "Epoch 11/100\n",
            "170/170 - 1s - loss: 0.0091 - 619ms/epoch - 4ms/step\n",
            "Epoch 12/100\n",
            "170/170 - 0s - loss: 0.0092 - 309ms/epoch - 2ms/step\n",
            "Epoch 13/100\n",
            "170/170 - 0s - loss: 0.0089 - 307ms/epoch - 2ms/step\n",
            "Epoch 14/100\n",
            "170/170 - 0s - loss: 0.0090 - 287ms/epoch - 2ms/step\n",
            "Epoch 15/100\n",
            "170/170 - 0s - loss: 0.0092 - 322ms/epoch - 2ms/step\n",
            "Epoch 16/100\n",
            "170/170 - 1s - loss: 0.0090 - 847ms/epoch - 5ms/step\n",
            "Epoch 17/100\n",
            "170/170 - 1s - loss: 0.0094 - 845ms/epoch - 5ms/step\n",
            "Epoch 18/100\n",
            "170/170 - 1s - loss: 0.0093 - 872ms/epoch - 5ms/step\n",
            "Epoch 19/100\n",
            "170/170 - 1s - loss: 0.0089 - 568ms/epoch - 3ms/step\n",
            "Epoch 20/100\n",
            "170/170 - 0s - loss: 0.0091 - 348ms/epoch - 2ms/step\n",
            "Epoch 21/100\n",
            "170/170 - 0s - loss: 0.0088 - 301ms/epoch - 2ms/step\n",
            "Epoch 22/100\n",
            "170/170 - 0s - loss: 0.0091 - 315ms/epoch - 2ms/step\n",
            "Epoch 23/100\n",
            "170/170 - 0s - loss: 0.0091 - 295ms/epoch - 2ms/step\n",
            "Epoch 24/100\n",
            "170/170 - 0s - loss: 0.0091 - 300ms/epoch - 2ms/step\n",
            "Epoch 25/100\n",
            "170/170 - 0s - loss: 0.0094 - 294ms/epoch - 2ms/step\n",
            "Epoch 26/100\n",
            "170/170 - 0s - loss: 0.0091 - 304ms/epoch - 2ms/step\n",
            "Epoch 27/100\n",
            "170/170 - 0s - loss: 0.0087 - 295ms/epoch - 2ms/step\n",
            "Epoch 28/100\n",
            "170/170 - 0s - loss: 0.0093 - 288ms/epoch - 2ms/step\n",
            "Epoch 29/100\n",
            "170/170 - 0s - loss: 0.0091 - 322ms/epoch - 2ms/step\n",
            "Epoch 30/100\n",
            "170/170 - 0s - loss: 0.0089 - 295ms/epoch - 2ms/step\n",
            "Epoch 31/100\n",
            "170/170 - 0s - loss: 0.0089 - 307ms/epoch - 2ms/step\n",
            "Epoch 32/100\n",
            "170/170 - 0s - loss: 0.0092 - 312ms/epoch - 2ms/step\n",
            "Epoch 33/100\n",
            "170/170 - 0s - loss: 0.0087 - 308ms/epoch - 2ms/step\n",
            "Epoch 34/100\n",
            "170/170 - 0s - loss: 0.0090 - 298ms/epoch - 2ms/step\n",
            "Epoch 35/100\n",
            "170/170 - 0s - loss: 0.0089 - 293ms/epoch - 2ms/step\n",
            "Epoch 36/100\n",
            "170/170 - 0s - loss: 0.0088 - 298ms/epoch - 2ms/step\n",
            "Epoch 37/100\n",
            "170/170 - 0s - loss: 0.0087 - 300ms/epoch - 2ms/step\n",
            "Epoch 38/100\n",
            "170/170 - 0s - loss: 0.0092 - 289ms/epoch - 2ms/step\n",
            "Epoch 39/100\n",
            "170/170 - 0s - loss: 0.0088 - 280ms/epoch - 2ms/step\n",
            "Epoch 40/100\n",
            "170/170 - 0s - loss: 0.0088 - 280ms/epoch - 2ms/step\n",
            "Epoch 41/100\n",
            "170/170 - 0s - loss: 0.0089 - 295ms/epoch - 2ms/step\n",
            "Epoch 42/100\n",
            "170/170 - 0s - loss: 0.0089 - 296ms/epoch - 2ms/step\n",
            "Epoch 43/100\n",
            "170/170 - 0s - loss: 0.0088 - 286ms/epoch - 2ms/step\n",
            "Epoch 44/100\n",
            "170/170 - 0s - loss: 0.0090 - 308ms/epoch - 2ms/step\n",
            "Epoch 45/100\n",
            "170/170 - 0s - loss: 0.0094 - 339ms/epoch - 2ms/step\n",
            "Epoch 46/100\n",
            "170/170 - 0s - loss: 0.0091 - 309ms/epoch - 2ms/step\n",
            "Epoch 47/100\n",
            "170/170 - 0s - loss: 0.0091 - 305ms/epoch - 2ms/step\n",
            "Epoch 48/100\n",
            "170/170 - 0s - loss: 0.0092 - 304ms/epoch - 2ms/step\n",
            "Epoch 49/100\n",
            "170/170 - 0s - loss: 0.0091 - 318ms/epoch - 2ms/step\n",
            "Epoch 50/100\n",
            "170/170 - 0s - loss: 0.0093 - 294ms/epoch - 2ms/step\n",
            "Epoch 51/100\n",
            "170/170 - 0s - loss: 0.0091 - 304ms/epoch - 2ms/step\n",
            "Epoch 52/100\n",
            "170/170 - 0s - loss: 0.0088 - 318ms/epoch - 2ms/step\n",
            "Epoch 53/100\n",
            "170/170 - 1s - loss: 0.0092 - 512ms/epoch - 3ms/step\n",
            "Epoch 54/100\n",
            "170/170 - 1s - loss: 0.0091 - 683ms/epoch - 4ms/step\n",
            "Epoch 55/100\n",
            "170/170 - 1s - loss: 0.0093 - 841ms/epoch - 5ms/step\n",
            "Epoch 56/100\n",
            "170/170 - 1s - loss: 0.0089 - 717ms/epoch - 4ms/step\n",
            "Epoch 57/100\n",
            "170/170 - 0s - loss: 0.0088 - 305ms/epoch - 2ms/step\n",
            "Epoch 58/100\n",
            "170/170 - 0s - loss: 0.0090 - 283ms/epoch - 2ms/step\n",
            "Epoch 59/100\n",
            "170/170 - 0s - loss: 0.0088 - 468ms/epoch - 3ms/step\n",
            "Epoch 60/100\n",
            "170/170 - 0s - loss: 0.0090 - 414ms/epoch - 2ms/step\n",
            "Epoch 61/100\n",
            "170/170 - 0s - loss: 0.0088 - 293ms/epoch - 2ms/step\n",
            "Epoch 62/100\n",
            "170/170 - 0s - loss: 0.0086 - 332ms/epoch - 2ms/step\n",
            "Epoch 63/100\n",
            "170/170 - 0s - loss: 0.0089 - 322ms/epoch - 2ms/step\n",
            "Epoch 64/100\n",
            "170/170 - 0s - loss: 0.0087 - 294ms/epoch - 2ms/step\n",
            "Epoch 65/100\n",
            "170/170 - 0s - loss: 0.0091 - 328ms/epoch - 2ms/step\n",
            "Epoch 66/100\n",
            "170/170 - 0s - loss: 0.0091 - 308ms/epoch - 2ms/step\n",
            "Epoch 67/100\n",
            "170/170 - 0s - loss: 0.0089 - 305ms/epoch - 2ms/step\n",
            "Epoch 68/100\n",
            "170/170 - 0s - loss: 0.0090 - 316ms/epoch - 2ms/step\n",
            "Epoch 69/100\n",
            "170/170 - 0s - loss: 0.0087 - 308ms/epoch - 2ms/step\n",
            "Epoch 70/100\n",
            "170/170 - 0s - loss: 0.0088 - 293ms/epoch - 2ms/step\n",
            "Epoch 71/100\n",
            "170/170 - 0s - loss: 0.0092 - 310ms/epoch - 2ms/step\n",
            "Epoch 72/100\n",
            "170/170 - 0s - loss: 0.0088 - 333ms/epoch - 2ms/step\n",
            "Epoch 73/100\n",
            "170/170 - 0s - loss: 0.0091 - 319ms/epoch - 2ms/step\n",
            "Epoch 74/100\n",
            "170/170 - 0s - loss: 0.0089 - 305ms/epoch - 2ms/step\n",
            "Epoch 75/100\n",
            "170/170 - 0s - loss: 0.0090 - 313ms/epoch - 2ms/step\n",
            "Epoch 76/100\n",
            "170/170 - 0s - loss: 0.0089 - 289ms/epoch - 2ms/step\n",
            "Epoch 77/100\n",
            "170/170 - 0s - loss: 0.0089 - 294ms/epoch - 2ms/step\n",
            "Epoch 78/100\n",
            "170/170 - 0s - loss: 0.0092 - 310ms/epoch - 2ms/step\n",
            "Epoch 79/100\n",
            "170/170 - 0s - loss: 0.0093 - 305ms/epoch - 2ms/step\n",
            "Epoch 80/100\n",
            "170/170 - 0s - loss: 0.0088 - 285ms/epoch - 2ms/step\n",
            "Epoch 81/100\n",
            "170/170 - 0s - loss: 0.0088 - 308ms/epoch - 2ms/step\n",
            "Epoch 82/100\n",
            "170/170 - 0s - loss: 0.0087 - 296ms/epoch - 2ms/step\n",
            "Epoch 83/100\n",
            "170/170 - 0s - loss: 0.0087 - 301ms/epoch - 2ms/step\n",
            "Epoch 84/100\n",
            "170/170 - 1s - loss: 0.0086 - 590ms/epoch - 3ms/step\n",
            "Epoch 85/100\n",
            "170/170 - 0s - loss: 0.0090 - 376ms/epoch - 2ms/step\n",
            "Epoch 86/100\n",
            "170/170 - 0s - loss: 0.0090 - 385ms/epoch - 2ms/step\n",
            "Epoch 87/100\n",
            "170/170 - 1s - loss: 0.0089 - 1s/epoch - 6ms/step\n",
            "Epoch 88/100\n",
            "170/170 - 1s - loss: 0.0090 - 1s/epoch - 7ms/step\n",
            "Epoch 89/100\n",
            "170/170 - 0s - loss: 0.0088 - 484ms/epoch - 3ms/step\n",
            "Epoch 90/100\n",
            "170/170 - 0s - loss: 0.0088 - 441ms/epoch - 3ms/step\n",
            "Epoch 91/100\n",
            "170/170 - 0s - loss: 0.0088 - 323ms/epoch - 2ms/step\n",
            "Epoch 92/100\n",
            "170/170 - 0s - loss: 0.0093 - 296ms/epoch - 2ms/step\n",
            "Epoch 93/100\n",
            "170/170 - 0s - loss: 0.0089 - 301ms/epoch - 2ms/step\n",
            "Epoch 94/100\n",
            "170/170 - 0s - loss: 0.0088 - 312ms/epoch - 2ms/step\n",
            "Epoch 95/100\n",
            "170/170 - 0s - loss: 0.0088 - 301ms/epoch - 2ms/step\n",
            "Epoch 96/100\n",
            "170/170 - 0s - loss: 0.0089 - 301ms/epoch - 2ms/step\n",
            "Epoch 97/100\n",
            "170/170 - 0s - loss: 0.0089 - 313ms/epoch - 2ms/step\n",
            "Epoch 98/100\n",
            "170/170 - 0s - loss: 0.0089 - 333ms/epoch - 2ms/step\n",
            "Epoch 99/100\n",
            "170/170 - 0s - loss: 0.0087 - 288ms/epoch - 2ms/step\n",
            "Epoch 100/100\n",
            "170/170 - 0s - loss: 0.0090 - 310ms/epoch - 2ms/step\n"
          ]
        },
        {
          "output_type": "execute_result",
          "data": {
            "text/plain": [
              "<keras.callbacks.History at 0x7f380eb53340>"
            ]
          },
          "metadata": {},
          "execution_count": 15
        }
      ]
    },
    {
      "cell_type": "code",
      "source": [
        "# Melakukan prediksi pada data testing\n",
        "trainPredict = model.predict(trainX)\n",
        "testPredict = model.predict(testX)"
      ],
      "metadata": {
        "colab": {
          "base_uri": "https://localhost:8080/"
        },
        "id": "du2xscGJWDF2",
        "outputId": "d97b22f2-7f50-4e2f-f76e-dd88d632a09e"
      },
      "execution_count": null,
      "outputs": [
        {
          "output_type": "stream",
          "name": "stdout",
          "text": [
            "6/6 [==============================] - 1s 3ms/step\n",
            "3/3 [==============================] - 0s 5ms/step\n"
          ]
        }
      ]
    },
    {
      "cell_type": "code",
      "source": [
        "# Plot hasil prediksi pada data training by Ajang Rahmat\n",
        "plt.plot(trainPredict)\n",
        "plt.plot(trainY)\n",
        "plt.show()"
      ],
      "metadata": {
        "colab": {
          "base_uri": "https://localhost:8080/",
          "height": 265
        },
        "id": "ybgqIMBQWS-B",
        "outputId": "3d55a608-84db-4363-f6f8-1a3f9d7968e3"
      },
      "execution_count": null,
      "outputs": [
        {
          "output_type": "display_data",
          "data": {
            "text/plain": [
              "<Figure size 432x288 with 1 Axes>"
            ],
            "image/png": "[encoded data removed]"
          },
          "metadata": {
            "needs_background": "light"
          }
        }
      ]
    },
    {
      "cell_type": "code",
      "source": [
        "# Plot hasil prediksi pada data testing  by Ajang Rahmat\n",
        "plt.plot(testPredict)\n",
        "plt.plot(testY)\n",
        "plt.show()"
      ],
      "metadata": {
        "colab": {
          "base_uri": "https://localhost:8080/",
          "height": 265
        },
        "id": "bPRKu7r5WcnI",
        "outputId": "d3ec7b97-9313-4a65-f4e5-0745f4ffe642"
      },
      "execution_count": null,
      "outputs": [
        {
          "output_type": "display_data",
          "data": {
            "text/plain": [
              "<Figure size 432x288 with 1 Axes>"
            ],
            "image/png": "[encoded data removed]"
          },
          "metadata": {
            "needs_background": "light"
          }
        }
      ]
    }
  ]
}